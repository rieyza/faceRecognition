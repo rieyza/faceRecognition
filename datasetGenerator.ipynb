{
 "cells": [
  {
   "cell_type": "code",
   "execution_count": 9,
   "metadata": {},
   "outputs": [],
   "source": [
    "import cv2\n",
    "import numpy\n",
    "import os\n",
    "from glob import glob"
   ]
  },
  {
   "cell_type": "code",
   "execution_count": 10,
   "metadata": {},
   "outputs": [],
   "source": [
    "faceCascade = cv2.CascadeClassifier(cv2.data.haarcascades + \"haarcascade_frontalface_default.xml\")\n"
   ]
  },
  {
   "cell_type": "code",
   "execution_count": 11,
   "metadata": {},
   "outputs": [],
   "source": [
    "def fromImage(ids):\n",
    "    inputFolder = \"IMAGES/\" + ids\n",
    "    i = 0\n",
    "    \n",
    "    for image in glob(inputFolder + \"/*.jpg\"):\n",
    "\n",
    "        img = cv2.imread(image)\n",
    "        #gray = cv2.cvtColor(img, cv2.COLOR_BGR2GRAY)\n",
    "        rgb = cv2.cvtColor(img, cv2.COLOR_BGR2RGB)\n",
    "        \n",
    "        faces = faceCascade.detectMultiScale(rgb, 1.5, 5)\n",
    "\n",
    "        for (x,y,w,h) in faces:\n",
    "            cv2.rectangle(img, (x,y), (x+w, y+h), (0,255,255), 2)\n",
    "\n",
    "            imgROI = rgb[y:y+h, x:w+w]\n",
    "            imgResize = cv2.resize(imgROI, (160,160))\n",
    "\n",
    "            if not os.path.exists(\"DATASET\" + ids):\n",
    "                os.mkdir(\"DATASET/\" + ids)\n",
    "\n",
    "            cv2.imwrite(\"DATASET/\" + ids + \"/USER-\" + ids + \"-%i.jpg\" %i, imgResize)\n",
    "            i += 1"
   ]
  },
  {
   "cell_type": "code",
   "execution_count": 12,
   "metadata": {},
   "outputs": [],
   "source": [
    "def fromCamera(ids, selectDevice):\n",
    "    cap = cv2.VideoCapture(selectDevice)\n",
    "    i = 0\n",
    "\n",
    "    path = \"DATASET/\" + ids + \"/\"\n",
    "\n",
    "    while cap.isOpened():\n",
    "        _, img = cap.read()\n",
    "        rgb = cv2.cvtColor(img, cv2.COLOR_BGR2RGB)\n",
    "\n",
    "        faces = faceCascade.detectMultiScale(rgb, 1.9, 5)\n",
    "\n",
    "        if _:\n",
    "            for (x,y,w,h) in faces:\n",
    "                cv2.rectangle(img, (x,y), (x+w, y+h), (0,255,255), 2)\n",
    "\n",
    "                imgROI = rgb[y:y+h, x:x+w]\n",
    "                imgResize = cv2.resize(imgROI, (160,160))\n",
    "\n",
    "                if not os.path.exists(path):\n",
    "                    os.makedirs(path)\n",
    "\n",
    "                cv2.imwrite(\"DATASET/\" + ids + \"/USER-\" + ids + \"-%i.jpg\" %i, imgResize)\n",
    "                i += 1\n",
    "\n",
    "                cv2.imshow(\"Camera\", img)\n",
    "        else:\n",
    "           print('No Camera')\n",
    "           cap.set(cv2.CAP_PROP_POS_FRAMES, 0)\n",
    "\n",
    "        if cv2.waitKey(1) & 0xFF == ord('q'):\n",
    "            break\n",
    "        elif i == 100:\n",
    "            break\n",
    "\n",
    "    cap.release()\n",
    "    cv2.destroyAllWindows()\n"
   ]
  },
  {
   "cell_type": "code",
   "execution_count": 13,
   "metadata": {},
   "outputs": [],
   "source": [
    "def fromVideo(ids):\n",
    "    cap = cv2.VideoCapture(\"VIDEOS/refli.mp4\")\n",
    "    i = 0\n",
    "\n",
    "    path = \"DATASET/\" + ids + \"/\"\n",
    "\n",
    "    while cap.isOpened():\n",
    "        _, img = cap.read()\n",
    "\n",
    "        if _:\n",
    "            rgb = cv2.cvtColor(img, cv2.COLOR_BGR2RGB)\n",
    "            faces = faceCascade.detectMultiScale(rgb, 1.9, 5)\n",
    "            \n",
    "            for (x,y,w,h) in faces:\n",
    "                cv2.rectangle(img, (x,y), (x+w, y+h), (0,255,255), 2)\n",
    "\n",
    "                imgROI = rgb[y:y+h, x:x+w]\n",
    "                imgResize = cv2.resize(imgROI, (160,160))\n",
    "\n",
    "                if not os.path.exists(path):\n",
    "                    os.makedirs(path)\n",
    "\n",
    "                cv2.imwrite(\"DATASET/\" + ids + \"/USER-\" + ids + \"-%i.jpg\" %i, imgResize)\n",
    "                i += 1\n",
    "\n",
    "                cv2.imshow(\"Camera\", img)\n",
    "        else:\n",
    "           print('No Camera')\n",
    "           cap.set(cv2.CAP_PROP_POS_FRAMES, 0)\n",
    "\n",
    "        if cv2.waitKey(1) & 0xFF == ord('q'):\n",
    "            break\n",
    "        elif i == 100:\n",
    "            break\n",
    "\n",
    "    cap.release()\n",
    "    cv2.destroyAllWindows()\n"
   ]
  },
  {
   "cell_type": "code",
   "execution_count": 14,
   "metadata": {},
   "outputs": [],
   "source": [
    "def runCamera(ids):\n",
    "    device = input(\"Device (-1, 0, 1, 2): \")\n",
    "    selectDevice = int(device)\n",
    "    \n",
    "    if selectDevice < -1:\n",
    "        print(\"Invalid\")\n",
    "        runCamera(ids)\n",
    "    elif selectDevice > 2:\n",
    "        print(\"Invalid\")\n",
    "        runCamera(ids)\n",
    "    else:\n",
    "        fromCamera(ids, selectDevice)\n",
    "\n"
   ]
  },
  {
   "cell_type": "code",
   "execution_count": 15,
   "metadata": {},
   "outputs": [],
   "source": [
    "def runProgram():\n",
    "    run = input(\"Image(0)/Camera(1)/Video(2)\")\n",
    "    run = int(run)\n",
    "\n",
    "    id = input(\"ID:\")\n",
    "    ids = str(id)\n",
    "\n",
    "    if run == 0:\n",
    "        fromImage(ids)\n",
    "    elif run == 1:\n",
    "        runCamera(ids)\n",
    "    elif run == 2:\n",
    "        fromVideo(ids)\n",
    "    else:\n",
    "        print(\"Invalid\")\n",
    "        runProgram()"
   ]
  },
  {
   "cell_type": "code",
   "execution_count": 16,
   "metadata": {},
   "outputs": [],
   "source": [
    "runProgram()"
   ]
  }
 ],
 "metadata": {
  "kernelspec": {
   "display_name": "Python 3.10.4 ('face-recognition')",
   "language": "python",
   "name": "python3"
  },
  "language_info": {
   "codemirror_mode": {
    "name": "ipython",
    "version": 3
   },
   "file_extension": ".py",
   "mimetype": "text/x-python",
   "name": "python",
   "nbconvert_exporter": "python",
   "pygments_lexer": "ipython3",
   "version": "3.10.4"
  },
  "orig_nbformat": 4,
  "vscode": {
   "interpreter": {
    "hash": "cf35c52f22082765708e3a9c257de4117348c619044f92dbdf7d609e6f9399a8"
   }
  }
 },
 "nbformat": 4,
 "nbformat_minor": 2
}
